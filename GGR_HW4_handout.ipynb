{
 "cells": [
  {
   "cell_type": "markdown",
   "id": "767c66e9",
   "metadata": {},
   "source": [
    "# Homework 4 - More Filtering, Joins, and Groupby\n",
    " \n"
   ]
  },
  {
   "cell_type": "markdown",
   "id": "4c621ab2",
   "metadata": {},
   "source": [
    "# Introduction\n",
    "\n",
    "For this week's homework, we are going to continue to work with the Statistics Canada GSS Time Use Dataset. This time we're going to dig into some new well-being data (time spent exercising), respondent characteristic data (if they have or don't have kids), province of residence, and how the time spent exercising differs between different combinations of these characteristic variables (groups).\n",
    "\n",
    "# Question\n",
    "\n",
    "The question you're answering in this homework:\n",
    "\n",
    "**_Is there a difference in mean time spent exercising between 25–55 year old respondents in ON and BC?_**\n"
   ]
  },
  {
   "cell_type": "markdown",
   "id": "25dc74e5",
   "metadata": {},
   "source": [
    "# Lab Instructions and Learning Objectives\n",
    "\n",
    "Just like in the previous homework, you will be creating and submitting a data story answering a data science question. You will be required to submit your work in the same format as last time, complete with sections for *Introduction*, *Data*, *Methods*, *Computation*, and *Conclusion*.\n",
    "\n",
    "In this lab, you will:\n",
    "* Create a data story in a notebook exploring the question.\n",
    "* Work with the Time Use dataset from lecture to investigate if time spent exercising is different in Ontario and B.C..\n",
    "* Work with the Time Use and Provincial datasets to investigate differences in time spent exercising in respondents aged 25–55, who have kids versus no kids, and further between residents of ON and BC.\n",
    "* Write and use advanced Boolean expressions to filter specific observations in our dataset. (Specifically, you're encouraged to practice using logical operators such as `!=`, `<=`, `>=`, `>`, `<`.)\n",
    "* Join two related datasets to create a larger more comprehensive dataset.\n",
    "\n",
    "The provincial data is in file `provincial_data.csv`. Here are the column definitions:\n",
    "```\n",
    "COL0 - GEO UID\n",
    "COL1 - Labour - Total Sex / Employment rate\n",
    "COL2 - Income - Total Sex / Total - Income statistics in 2015 for private households by household size - 100% data / Median total income of households in 2015 ($)\n",
    "COL3 - Dwelling characteristics / Average household size\n",
    "\n",
    "COL4 - Housing - Total Sex / Total - Owner households in non-farm, non-reserve private dwellings - 25% sample data / % of owner households spending 30% or more of its income on shelter costs\n",
    "```"
   ]
  },
  {
   "cell_type": "markdown",
   "id": "2b677ef1",
   "metadata": {},
   "source": [
    "# Due date \n",
    "\n",
    "The due date is extended. You will submit your completed Homework 4 on MarkUs by *Fri, Feb 7 2022 at 11:59 PM EST*. We will send an announcement in a couple days when autotesting has been set up."
   ]
  },
  {
   "cell_type": "markdown",
   "id": "2d10a0a3",
   "metadata": {},
   "source": [
    "# GGR: How to submit\n",
    "\n",
    "1. Download your homework to your local computer and save it as `GGR274_Homework_4.ipynb`.\n",
    "2. Log in here: https://markus-ds.teach.cs.toronto.edu.\n",
    "3. Submit your homework to `hw4: Homework 4`."
   ]
  },
  {
   "cell_type": "markdown",
   "id": "c9549322",
   "metadata": {},
   "source": [
    "# Marking Rubric\n",
    "\n",
    "\n",
    "Section     | 0 | 1 | 2 | 3\n",
    "------------|---|---|---|---\n",
    "Introduction|The question is not stated correctly or left blank | The question is stated correctly | NA | NA \n",
    "Data (for each python variable)       |auto test fails | auto test passes | NA | NA \n",
    "Methods (for each part) | No answer | The data extracted is specified or a reasonable rationale is given, but not both | Both the data extracted is specified and a reasonable rationale is given | NA\n",
    "Computation |auto test fails | auto test passes | NA | NA \n",
    "Conclusion (for each part) | No answer | The question is answered but no explanation is given | The question is answered but the explanation is not supported or weakly supported by the data | The question is answered and the explanation is supported by the data "
   ]
  },
  {
   "cell_type": "markdown",
   "id": "e9d60469",
   "metadata": {},
   "source": [
    "# Introduction section\n",
    "\n",
    "This should introduce the question being explored in a sentence. __(1 mark)__"
   ]
  },
  {
   "cell_type": "markdown",
   "id": "5b2f1005",
   "metadata": {},
   "source": [
    "# Data section\n",
    "\n",
    "The `Data` part of your notebook should read the raw data, extract a `DataFrame` containing the important columns, and present the overall data.\n",
    "\n",
    "You might find it helpful to name intermediate values in your algorithms. That way you can examine them to make sure they have the type you expect and that they look like what you expect. Very helpful when debugging!\n",
    "\n",
    "Here is the data you should create and work with and the variable names to use for that data.\n",
    "\n",
    "+ `provincial_data_raw`: the `DataFrame` created by reading the `provincial_data.csv` file. __(1 mark)__\n",
    "\n",
    "\n",
    "+ `time_use_data_raw`: the `DataFrame` created by reading the `gss_tu2016_main_file.csv` file. __(1 mark)__\n",
    "\n",
    "\n",
    "+ `time_use_data`: the `DataFrame` containing only the relevant columns from `time_use_data_raw`: `'CASEID'`, `'chh0014c'`, and `'dur47'`, `'prv'`, and `'agregr10'`. __(1 mark)__ \n"
   ]
  },
  {
   "cell_type": "code",
   "execution_count": null,
   "id": "5ffe1c14",
   "metadata": {},
   "outputs": [],
   "source": [
    "# Data section check for the raw data\n",
    "provincial_data_raw.head()"
   ]
  },
  {
   "cell_type": "code",
   "execution_count": null,
   "id": "a281eb2e",
   "metadata": {
    "scrolled": true
   },
   "outputs": [],
   "source": [
    "time_use_data_raw.head()"
   ]
  },
  {
   "cell_type": "code",
   "execution_count": null,
   "id": "5814fc63",
   "metadata": {},
   "outputs": [],
   "source": [
    "time_use_data.head()"
   ]
  },
  {
   "cell_type": "markdown",
   "id": "9975e34b",
   "metadata": {},
   "source": [
    "In a markdown cell, after you read in the data and select the relevant columns, describe what each of the selected columns represents. Refer to the codebook to help with your description __(1 mark)__"
   ]
  },
  {
   "cell_type": "markdown",
   "id": "b9e76f60",
   "metadata": {},
   "source": [
    "Both dataframes could use better column names. Create the following data.\n",
    "\n",
    "+ `time_use_data_new_column_names`: a python dictionary mapping the column names from `time_use_data` to the values `'participant_ID'`, `'number_of_children'`, `'time_spent_exercising'`, `'province_code'`, and `'respondent_age'`. __(1 mark)__\n",
    "\n",
    "\n",
    "+ `time_use_data_clean`: the `DataFrame` that is the result of renaming the columns in `time_use_data`. __(1 mark)__\n",
    "\n",
    "\n",
    "+ `provincial_data_new_column_names`: the dictionary mapping the column names from `provincial_data_raw` to `'province_code'`, `'employment_rate'`, `'income'`, `'household_size'`, and `'pct_house_over_30'`, respectively. __(1 mark)__\n",
    "\n",
    "\n",
    "+ `provincial_data_clean`: the `DataFrame` that is the result of renaming the columns in `provincial_data_raw`. (We will not autotest this `DataFrame` until after you have added columns, as described below.)\n",
    "\n",
    "\n",
    "+ `joined_time_use_data`: the `DataFrame` created as a result of *joining* the `DataFrames` `time_use_data_clean` and `provincial_data_clean`, on the column `province_code`. Let `time_use_data_clean` be the left dataframe, and `provincial_data_clean` be the right dataframe. __(1 mark)__\n",
    "\n",
    "\n",
    "We will check the values of these variables in the autotester. You'll probably want to use a few other variables along the way for the intermediate steps, like naming a list of important columns, but we're not autotesting those. In future homeworks, we'll ask for even fewer intermetidate steps.\n",
    "\n",
    "The `Data` part of your notebook should read the raw data, extract a `DataFrame` containing the important columns, and present the overall data."
   ]
  },
  {
   "cell_type": "code",
   "execution_count": null,
   "id": "7dec91f6",
   "metadata": {},
   "outputs": [],
   "source": [
    "# Data check: test the shape of joined_time_use_data\n",
    "\n",
    "print('provincial_data_new_column_names:')\n",
    "print(provincial_data_new_column_names)\n",
    "print('time_use_data_new_column_names:')\n",
    "print(time_use_data_new_column_names)\n",
    "print('provincial_data_clean.columns:')\n",
    "print(provincial_data_clean.columns)\n",
    "print('time_use_data_clean.columns:')\n",
    "print(time_use_data_clean.columns)"
   ]
  },
  {
   "cell_type": "markdown",
   "id": "223f9b0f",
   "metadata": {},
   "source": [
    "### Assert!\n",
    "\n",
    "Here's something cool: the Python `assert` statement asserts that an expression evaluates\n",
    "to `True`. If so, good, and there is no output. But if the expression evaluates to `False`, Python raises an error.\n",
    "\n",
    "Programmers use assert statements to check that they're on the right track so that they\n",
    "only have to read the output carefully when there's an error. You can do this too any\n",
    "time you like!"
   ]
  },
  {
   "cell_type": "code",
   "execution_count": null,
   "id": "192b5d97-bde8-4880-8ef8-12da5942d3e2",
   "metadata": {},
   "outputs": [],
   "source": [
    "error_msg = 'merged data frame has the wrong shape'\n",
    "assert joined_time_use_data.shape == (17390, 9), error_msg"
   ]
  },
  {
   "cell_type": "markdown",
   "id": "37704ea8",
   "metadata": {},
   "source": [
    "# Methods section\n",
    "\n",
    "Start with a Markdown cell describing what you're going to do, which is:\n",
    "\n",
    "\n",
    "1. Filter `joined_time_use_data` to get a datafram that includes only respondents who fulfill both of these criteria:\n",
    "    * Respondents are ages 25–54, inclusive.\n",
    "    * Respondents live in either Ontario (ON) or British Columbia (BC).\n",
    "    \n",
    "What variables in our dataset contain information corresponding to each of the criteria? Why might we be interested in these groups, considering our research question? __(2 marks)__\n",
    "   \n",
    "\n",
    "2. Briefly describe how you will compute the mean time spent exercising for respondents in each of BC and ON. __(2 marks)__"
   ]
  },
  {
   "cell_type": "markdown",
   "id": "50eb2a26",
   "metadata": {},
   "source": [
    "# Computation section\n",
    "\n",
    "There are a few sections to this, as outlined in the Methods. First, you will subset your dataset for respondents aged 25–54 that live in ON or BC. Then you'll add a column that indicates whether a respondent has kids or not. Afterwards, you'll address missing values in the aforementioned column you just created, as well as the column corresponding to time spent exercising. Finally, you will compute and compare the mean time spent exercising by respondents who have kids with those who do not, in ON and BC."
   ]
  },
  {
   "cell_type": "markdown",
   "id": "af5b2699",
   "metadata": {},
   "source": [
    "## Subset Data\n",
    "\n",
    "First, let's subset our data to include only respondents aged 24 to 54 who live in ON or BC. \n",
    "\n",
    "Create these values along the way and name them using the variable names indicated. We will check them in the autotester.\n",
    "\n",
    "We will not check your intermediate steps, although if you are getting an answer that doesn't make sense it's a good thing to start pulling your equations apart and naming the intermediate values so you can examine them more closely. That's a debugging technique.\n",
    "\n",
    "+ `aged_between_25_and_55`: a Boolean `Series` that is `True` when a respondent is between the ages 25 and 54, and `False` otherwise. __(1 mark)__ \n",
    "    * Hint: you might want to refer to the dataset codebook to determine which values correspond to a respondent in an Urban area\n",
    "\n",
    "+ `respondent_ON_BC`: a Boolean `Series` that is `True` when a respondent is a resident of ON or BC, and `False` otherwise. __(1 mark)__\n",
    "\n",
    "+ `filtered_data`: a `DataFrame` that contains only respondents that are aged 25 to 54, and are either a resident of ON or BC. __(we will only test your dataframe after you have manipulated it, as described below.)__\n",
    "\n",
    "+ Now change the values in column `'province'` in `filtered_data` from the respective province codes to `'ON'` and `'BC'`. Refer to the codebook under column `'prv'`. __(1 mark)__\n"
   ]
  },
  {
   "cell_type": "markdown",
   "id": "3e182eff",
   "metadata": {},
   "source": [
    "### Stuff to ponder, no need to include in your submission\n",
    "\n",
    "Take a few minutes to read each line below carefully and figure out what it is doing. Identify the lists, dictionaries, and series that are being built, the functions that are being called, and the names that we assign to.\n",
    "\n",
    "In the `assert` statements, what are the Boolean expressions?\n",
    "\n",
    "Ask questions about this on Ed if you like!"
   ]
  },
  {
   "cell_type": "code",
   "execution_count": null,
   "id": "b30dc008-bb5b-4f61-b4cc-70d63d7bdcf3",
   "metadata": {},
   "outputs": [],
   "source": [
    "# Check subset data\n",
    "expected_prov_counts = pd.Series(data = {'ON': 2175, 'BC': 859}, index = ['ON', 'BC'])\n",
    "assert filtered_data['province'].value_counts().equals(expected_prov_counts), 'check province column in subset data'\n",
    "\n",
    "expected_age_counts = pd.Series(data = {4 : 1156, 3 : 1078, 2 : 800}, index = [4, 3, 2])\n",
    "assert filtered_data['respondent_age'].value_counts().equals(expected_age_counts), 'check respondent_age column in subset data'"
   ]
  },
  {
   "cell_type": "code",
   "execution_count": null,
   "id": "7790bc20",
   "metadata": {},
   "outputs": [],
   "source": [
    "print(\"aged_between_25_and_55:\")\n",
    "print(aged_between_25_and_55.head())\n",
    "print(\"respondent_ON_BC:\")\n",
    "print(respondent_ON_BC.head())\n",
    "print(\"filtered_data:\")\n",
    "print(filtered_data.head())"
   ]
  },
  {
   "cell_type": "markdown",
   "id": "c96f059c",
   "metadata": {},
   "source": [
    "## Compute and display mean time spent exercising in ON and BC\n",
    "\n",
    "Use `filtered_data` to compute the mean time spent exercising in ON and BC.  Name the Ontario mean `exercise_time_ON` and name the B.C. mean `exercise_time_BC`. __(2 marks / 1 mark each)__\n",
    "\n",
    "Use `print` to display the the means rounded to two decimal places (you can use the `round` function) with the following message,\n",
    "\n",
    "`'The mean exercise time in X is:'`\n",
    "\n",
    "where `X` is either Ontario or B.C. __(2 marks)__\n",
    "\n",
    "NB: to find out more about the built-in Python function `round`, try this:\n",
    "\n",
    "```help(round)```\n",
    "\n"
   ]
  },
  {
   "cell_type": "code",
   "execution_count": null,
   "id": "3181c8f7-311f-469f-9984-7a44983c0c5b",
   "metadata": {},
   "outputs": [],
   "source": [
    "# Check mean values\n",
    "\n",
    "assert exercise_time_ON == 10.23, 'incorrect mean value for ON'\n",
    "assert exercise_time_BC == 10.55, 'incorrect mean value for BC'"
   ]
  },
  {
   "cell_type": "markdown",
   "id": "2b240bce",
   "metadata": {},
   "source": [
    "# Conclusion\n",
    "\n",
    "Include cells with your answers to each of these questions:\n",
    " \n",
    "1. Is there evidence of a *meaningful* difference in the mean time ON and BC residents between the ages of 25 - 54 spend exercising? How do you interpret *meaningful difference*?  Briefly explain. __(3 marks)__\n",
    "\n",
    "2. If you were to remove respondents that indicated they spent no time (i.e., 0 minutes) exercising would that change your answer to 1? Briefly explain. NB: to answer this question you may want to do further computations to support your answer, but these computations will not be autograded, but could be used to help support your answer to this question. __(3 marks)__\n"
   ]
  }
 ],
 "metadata": {
  "kernelspec": {
   "display_name": "Python 3 (ipykernel)",
   "language": "python",
   "name": "python3"
  },
  "language_info": {
   "codemirror_mode": {
    "name": "ipython",
    "version": 3
   },
   "file_extension": ".py",
   "mimetype": "text/x-python",
   "name": "python",
   "nbconvert_exporter": "python",
   "pygments_lexer": "ipython3",
   "version": "3.9.9"
  }
 },
 "nbformat": 4,
 "nbformat_minor": 5
}
